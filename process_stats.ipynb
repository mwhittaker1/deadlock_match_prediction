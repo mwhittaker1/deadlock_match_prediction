{
 "cells": [
  {
   "cell_type": "code",
   "execution_count": 1,
   "id": "94a54e45",
   "metadata": {},
   "outputs": [],
   "source": [
    "import requests\n",
    "import json\n",
    "import os\n",
    "import sys\n",
    "import pandas as pd\n",
    "import logging\n",
    "from urllib.parse import urlencode\n",
    "import time\n",
    "from datetime import timedelta, datetime, timezone\n",
    "from data.fetch_data import bulk_fetch_matches\n",
    "from typing import Optional, Dict, Any, Iterable, List\n",
    "\n",
    "logging.basicConfig(level=logging.DEBUG)\n",
    "logging = logging.getLogger(__name__)\n"
   ]
  },
  {
   "cell_type": "code",
   "execution_count": 2,
   "id": "6eef4009",
   "metadata": {},
   "outputs": [],
   "source": [
    "start_date = \"2025-08-19\"\n",
    "end_date = \"2025-08-21\"\n",
    "folder_name = f\"v2_data//pred_data//test_pred_v2_{start_date}_{end_date}\""
   ]
  },
  {
   "cell_type": "code",
   "execution_count": null,
   "id": "88bbc13d",
   "metadata": {},
   "outputs": [],
   "source": [
    "# Load data from .csvs\n",
    "# Initial data set split to players & matches. match_id+account_id = PK\n",
    "raw_players = pd.read_csv(f\"{folder_name}/raw_players.csv\")\n",
    "raw_matches = pd.read_csv(f\"{folder_name}/batch_matches.csv\")\n",
    "\n",
    "# player hero stats across liftetime of games played\n",
    "player_hero_stats = pd.read_csv(f\"{folder_name}/player_hero_stats.csv\")\n",
    "\n",
    "# aggregated stats for each player based on p_h_stats\n",
    "player_match_stats = pd.read_csv(f\"{folder_name}/player_match_stats.csv\")\n",
    "\n",
    "# raw hero stats for badge 100+ based on end_date\n",
    "hero_stats = pd.read_csv(f\"{folder_name}/hero_stats.csv\")"
   ]
  },
  {
   "cell_type": "code",
   "execution_count": null,
   "id": "2c95502d",
   "metadata": {},
   "outputs": [],
   "source": [
    "def prep_player_match_stats(raw_players, raw_matches)->pd.DataFrame:\n",
    "    # calculate win column for the account<>match\n",
    "    player_match_stats = raw_players.merge(\n",
    "        raw_matches[['match_id', 'winning_team']],\n",
    "        on='match_id',\n",
    "        how='left'\n",
    "    )\n",
    "    player_match_stats['win'] = player_match_stats.apply(\n",
    "        lambda row: 'Y' if row['team'] == row['winning_team'] else 'N',\n",
    "        axis=1\n",
    "    )\n",
    "\n",
    "    drop_columns = [\n",
    "        'kills','deaths','assists','denies','net_worth','Unnamed: 0'\n",
    "    ]\n",
    "    \n",
    "    for col in drop_columns:\n",
    "        if col in player_match_stats.columns:\n",
    "            player_match_stats.drop(columns=col, inplace=True)\n",
    "    \n",
    "    return player_match_stats"
   ]
  },
  {
   "cell_type": "code",
   "execution_count": null,
   "id": "164ed6a1",
   "metadata": {},
   "outputs": [],
   "source": [
    "def merge_pm_h_p_stats(p_m_stats, ph_stats, h_stats,)-> pd.DataFrame:\n",
    "    \"\"\"merges hero_stats on df, where hero_id=hero_id, adds suffix 'h_' to hero_stats columns\"\"\"\n",
    "\n",
    "    h_stats_copy = h_stats.copy()\n",
    "    ph_stats_copy = ph_stats.copy()\n",
    "    p_m_stats_copy = p_m_stats.copy()\n",
    "\n",
    "    h_stats_copy = h_stats_copy.add_prefix('h_')\n",
    "    h_stats_copy = h_stats_copy.rename(columns={'h_hero_id': 'hero_id'})\n",
    "\n",
    "    ph_stats_copy = ph_stats_copy.add_prefix('ph_')\n",
    "    ph_stats_copy = ph_stats_copy.rename(columns={\n",
    "        'ph_hero_id': 'hero_id', 'ph_account_id': 'account_id',\n",
    "        'ph_match_id':'match_id','ph_team':'team',\n",
    "        'ph_winning_team':'winning_team','ph_win':'win'})\n",
    "    \n",
    "    merged = pd.merge(p_m_stats_copy, h_stats_copy, on=\"hero_id\", suffixes=(\"h_\", \"\"))\n",
    "    merged = pd.merge(merged, ph_stats_copy, on=\"account_id\", suffixes=(\"h_\", \"ph_\"))\n",
    "\n",
    "    return merged"
   ]
  },
  {
   "cell_type": "code",
   "execution_count": null,
   "id": "b8f3b86e",
   "metadata": {},
   "outputs": [],
   "source": [
    "def calculate_ph_stats(p_ph_h_stats: pd.DataFrame) -> pd.DataFrame:\n",
    "    \"\"\"\n",
    "    Create player hero stats by aggregating the player_hero_stats DataFrame.\n",
    "    Creates aggregate function across all hero_stats for players in df.\n",
    "    Checks for potential divide by zero errors and sets result to 0 if denominator is zero.\n",
    "    \"\"\"\n",
    "\n",
    "    ph_stats = p_ph_h_stats.copy()\n",
    "\n",
    "    # Avoid divide by zero for deaths\n",
    "    ph_stats['ph_total_kd'] = np.where(ph_stats['deaths'] == 0, 0, ph_stats['kills'] / ph_stats['deaths'])\n",
    "\n",
    "    # Avoid divide by zero for ph_total_kd\n",
    "    ph_stats['ph_kd_ratio'] = np.where(ph_stats['ph_total_kd'] == 0, 0, ph_stats['h_total_kd']/ ph_stats['ph_total_kd'])\n",
    "\n",
    "    ph_stats['h_avg_total_time_played'] = (ph_stats.groupby('hero_id')['time_played'].transform(\"mean\"))\n",
    "    # Avoid divide by zero for h_avg_total_time_played\n",
    "    ph_stats['ph_time_played_ratio'] = np.where(ph_stats['h_avg_total_time_played'] == 0, 0, ph_stats['time_played']/ ph_stats['h_avg_total_time_played'])\n",
    "\n",
    "    ph_stats['h_total_damage_per_min'] = (ph_stats.groupby('hero_id')['damage_per_min'].transform(\"mean\"))\n",
    "    # Avoid divide by zero for h_total_damage_per_min\n",
    "    ph_stats['ph_damage_per_min_ratio'] = np.where(ph_stats['h_total_damage_per_min'] == 0, 0, ph_stats['damage_per_min']/ ph_stats['h_total_damage_per_min'])\n",
    "\n",
    "    ph_stats['h_total_assists'] = (ph_stats.groupby('hero_id')['assists'].transform(\"mean\"))\n",
    "    # Avoid divide by zero for h_total_assists\n",
    "    ph_stats['ph_assists_ratio'] = np.where(ph_stats['h_total_assists'] == 0, 0, ph_stats['assists']/ ph_stats['h_total_assists'])\n",
    "\n",
    "    # Avoid divide by zero for matches_played\n",
    "    ph_stats['ph_win_rate'] = np.where(ph_stats['matches_played'] == 0, 0, ph_stats['wins'] / ph_stats['matches_played'])\n",
    "    ph_stats['h_total_win_rate'] = (ph_stats.groupby('hero_id')['ph_win_rate'].transform(\"mean\"))\n",
    "    # Avoid divide by zero for h_total_win_rate\n",
    "    ph_stats['ph_win_rate_ratio'] = np.where(ph_stats['h_total_win_rate'] == 0, 0, ph_stats['ph_win_rate'] / ph_stats['h_total_win_rate'])\n",
    "\n",
    "    ph_stats.rename(columns={\n",
    "        \"wins\": \"ph_wins\",\n",
    "        \"kills\": \"ph_kills\",\n",
    "        \"deaths\": \"ph_deaths\",\n",
    "        \"assists\": \"ph_assists\",\n",
    "        \"damage_per_min\": \"ph_damage_per_min\",\n",
    "        'time_played': 'ph_time_played'\n",
    "    }, inplace=True)\n",
    "\n",
    "    return ph_stats\n",
    "\n",
    "def create_hero_stats(player_hero_stats: pd.DataFrame) -> pd.DataFrame:\n",
    "    \"\"\"\n",
    "    Create hero stats by aggregating the player_hero_stats DataFrame.\n",
    "    \"\"\"\n",
    "    hero_stats = player_hero_stats.copy()\n",
    "\n",
    "    hero_stats['h_total_kd'] = (hero_stats.groupby('hero_id')['ph_total_kd'].transform(\"mean\"))\n",
    "\n",
    "\n",
    "    return hero_stats\n",
    "\n",
    "def create_player_stats(player_match_stats: pd.DataFrame) -> pd.DataFrame:\n",
    "    \"\"\"\n",
    "    Create player stats by aggregating the player_match_stats DataFrame.\n",
    "    \"\"\"\n",
    "    player_stats = player_match_stats.copy()"
   ]
  },
  {
   "cell_type": "code",
   "execution_count": null,
   "id": "9715fe93",
   "metadata": {},
   "outputs": [],
   "source": []
  },
  {
   "cell_type": "code",
   "execution_count": null,
   "id": "0469139c",
   "metadata": {},
   "outputs": [],
   "source": []
  },
  {
   "cell_type": "code",
   "execution_count": null,
   "id": "7df5b207",
   "metadata": {},
   "outputs": [],
   "source": [
    "player_match_stats = (prep_player_match_stats(raw_players, raw_matches))\n",
    "player_match_stats.to_csv(f\"{folder_name}/player_match_stats.csv\", index=False)"
   ]
  },
  {
   "cell_type": "code",
   "execution_count": null,
   "id": "05102dfd",
   "metadata": {},
   "outputs": [],
   "source": [
    "ph_h_p_stats = merge_pm_h_p_stats(player_match_stats, hero_stats)\n",
    "ph_h_p_stats.to_csv(f\"{folder_name}/ph_h_p_stats.csv\", index=False)"
   ]
  },
  {
   "cell_type": "code",
   "execution_count": null,
   "id": "d60db0cf",
   "metadata": {},
   "outputs": [],
   "source": []
  },
  {
   "cell_type": "code",
   "execution_count": null,
   "id": "e0acd495",
   "metadata": {},
   "outputs": [],
   "source": [
    "calc_stats = calculate_ph_stats(ph_h_p_stats)"
   ]
  }
 ],
 "metadata": {
  "kernelspec": {
   "display_name": ".venv",
   "language": "python",
   "name": "python3"
  },
  "language_info": {
   "codemirror_mode": {
    "name": "ipython",
    "version": 3
   },
   "file_extension": ".py",
   "mimetype": "text/x-python",
   "name": "python",
   "nbconvert_exporter": "python",
   "pygments_lexer": "ipython3",
   "version": "3.12.6"
  }
 },
 "nbformat": 4,
 "nbformat_minor": 5
}
