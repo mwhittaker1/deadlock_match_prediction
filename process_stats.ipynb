{
 "cells": [
  {
   "cell_type": "code",
   "execution_count": 2,
   "id": "94a54e45",
   "metadata": {},
   "outputs": [],
   "source": [
    "import requests\n",
    "import json\n",
    "import os\n",
    "import sys\n",
    "import pandas as pd\n",
    "import logging\n",
    "from urllib.parse import urlencode\n",
    "import time\n",
    "from datetime import timedelta, datetime, timezone\n",
    "from data.fetch_data import bulk_fetch_matches\n",
    "from typing import Optional, Dict, Any, Iterable, List\n",
    "\n",
    "logging.basicConfig(level=logging.DEBUG)\n",
    "logging = logging.getLogger(__name__)\n"
   ]
  },
  {
   "cell_type": "code",
   "execution_count": 4,
   "id": "6eef4009",
   "metadata": {},
   "outputs": [],
   "source": [
    "start_date = \"2025-08-19\"\n",
    "end_date = \"2025-08-21\"\n",
    "folder_name = f\"v2_data//pred_data//test_pred_v2_{start_date}_{end_date}\""
   ]
  },
  {
   "cell_type": "code",
   "execution_count": null,
   "id": "88bbc13d",
   "metadata": {},
   "outputs": [],
   "source": [
    "# Load data from .csvs\n",
    "# Initial data set split to players & matches. match_id+account_id = PK\n",
    "raw_players = pd.read_csv(f\"{folder_name}/raw_players.csv\")\n",
    "raw_matches = pd.read_csv(f\"{folder_name}/batch_matches.csv\")\n",
    "\n",
    "# player stats across lifetime of player\n",
    "player_stats = pd.read_csv(f\"{folder_name}/player_stats.csv\")\n",
    "\n",
    "# player hero stats across liftetime of games played\n",
    "player_hero_stats = pd.read_csv(f\"{folder_name}/player_hero_stats.csv\")\n",
    "\n",
    "# aggregated stats for each player based on p_h_stats\n",
    "player_match_stats = pd.read_csv(f\"{folder_name}/player_match_stats.csv\")\n",
    "\n",
    "# raw hero stats for badge 100+ based on end_date\n",
    "hero_stats = pd.read_csv(f\"{folder_name}/hero_stats.csv\")"
   ]
  },
  {
   "cell_type": "code",
   "execution_count": 4,
   "id": "eb3eedc0",
   "metadata": {},
   "outputs": [],
   "source": [
    "def check_unique_naming(p_h_stats=None,\n",
    "                        p_stats=None, \n",
    "                        h_stats=None\n",
    "                        ) -> tuple[pd.DataFrame, pd.DataFrame, pd.DataFrame]:\n",
    "    static_names = ['account_id', 'hero_id', 'match_id']\n",
    "    if p_h_stats is not None:\n",
    "        p_h_stats = p_h_stats.rename(columns={col: f\"ph_{col}\" for col in p_h_stats.columns \n",
    "            if col not in static_names and not col.startswith('ph_')})\n",
    "    if p_stats is not None:\n",
    "        p_stats = p_stats.rename(columns={col: f\"p_{col}\" for col in p_stats.columns\n",
    "            if col not in static_names and not col.startswith('p_')})\n",
    "    if h_stats is not None:\n",
    "        h_stats = h_stats.rename(columns={col: f\"h_{col}\" for col in h_stats.columns\n",
    "            if col not in static_names and not col.startswith('h_')})\n",
    "\n",
    "    return p_h_stats, p_stats, h_stats\n"
   ]
  },
  {
   "cell_type": "code",
   "execution_count": null,
   "id": "c4a959db",
   "metadata": {},
   "outputs": [],
   "source": [
    "def merge_stats(player_stats, player_hero_stats, hero_stats)->pd.DataFrame:\n",
    "    p_ph_stats = player_stats.merge(player_hero_stats, on='player_id', suffixes=('_player', '_player_hero'))\n",
    "    p_ph_h_stats = p_ph_stats.merge(hero_stats, on='hero_id', suffixes=('', '_hero'))\n",
    "    return p_ph_h_stats"
   ]
  },
  {
   "cell_type": "code",
   "execution_count": 47,
   "id": "164ed6a1",
   "metadata": {},
   "outputs": [],
   "source": [
    "def merge_pm_h_p_stats(p_m_stats, ph_stats, h_stats,)-> pd.DataFrame:\n",
    "    \"\"\"merges hero_stats on df, where hero_id=hero_id, adds suffix 'h_' to hero_stats columns\"\"\"\n",
    "\n",
    "    h_stats_copy = h_stats.copy()\n",
    "    ph_stats_copy = ph_stats.copy()\n",
    "    p_m_stats_copy = p_m_stats.copy()\n",
    "\n",
    "    h_stats_copy = h_stats_copy.rename(columns={'h_hero_id': 'hero_id'})\n",
    "\n",
    "    ph_stats_copy = ph_stats_copy.add_prefix('ph_')\n",
    "    ph_stats_copy = ph_stats_copy.rename(columns={\n",
    "        'ph_hero_id': 'hero_id',\n",
    "        'ph_account_id': 'account_id',\n",
    "        'ph_match_id':'match_id','ph_team':'team',\n",
    "        'ph_winning_team':'winning_team','ph_win':'win'})\n",
    "\n",
    "    merged = pd.merge(p_m_stats_copy, h_stats_copy, on=\"hero_id\", suffixes=(\"\", \"\"))\n",
    "    print(f'merged: \\n\\n{merged}')\n",
    "\n",
    "    all_merged = pd.merge(merged, ph_stats_copy, on=['account_id', 'hero_id'], how='left')\n",
    "\n",
    "    return all_merged"
   ]
  },
  {
   "cell_type": "code",
   "execution_count": null,
   "id": "c31f3340",
   "metadata": {},
   "outputs": [],
   "source": [
    "#     merged = pd.merge(merged, ph_stats_copy, on=['account_id', 'hero_id'], suffixes=(\"\", \"\"))"
   ]
  },
  {
   "cell_type": "code",
   "execution_count": 9,
   "id": "b8f3b86e",
   "metadata": {},
   "outputs": [],
   "source": [
    "def calculate_ph_stats(p_ph_h_stats: pd.DataFrame) -> pd.DataFrame:\n",
    "    \"\"\"\n",
    "    Create player hero stats by aggregating the player_hero_stats DataFrame.\n",
    "    Creates aggregate function across all hero_stats for players in df.\n",
    "    Checks for potential divide by zero errors and sets result to 0 if denominator is zero.\n",
    "    \"\"\"\n",
    "    import numpy as np\n",
    "    \n",
    "    all_stats = p_ph_h_stats.copy()\n",
    "\n",
    "    # Avoid divide by zero for deaths\n",
    "    all_stats['ph_total_kd'] = np.where(all_stats['deaths'] == 0, 0, all_stats['kills'] / all_stats['deaths'])\n",
    "\n",
    "    # Avoid divide by zero for ph_total_kd\n",
    "    all_stats['ph_kd_ratio'] = np.where(all_stats['ph_total_kd'] == 0, 0, all_stats['h_total_kd']/ all_stats['ph_total_kd'])\n",
    "\n",
    "    all_stats['h_avg_total_time_played'] = (all_stats.groupby('hero_id')['time_played'].transform(\"mean\"))\n",
    "    # Avoid divide by zero for h_avg_total_time_played\n",
    "    all_stats['ph_time_played_ratio'] = np.where(all_stats['h_avg_total_time_played'] == 0, 0, all_stats['time_played']/ all_stats['h_avg_total_time_played'])\n",
    "\n",
    "    all_stats['h_total_damage_per_min'] = (all_stats.groupby('hero_id')['damage_per_min'].transform(\"mean\"))\n",
    "    # Avoid divide by zero for h_total_damage_per_min\n",
    "    all_stats['ph_damage_per_min_ratio'] = np.where(all_stats['h_total_damage_per_min'] == 0, 0, all_stats['damage_per_min']/ all_stats['h_total_damage_per_min'])\n",
    "\n",
    "    all_stats['h_total_assists'] = (all_stats.groupby('hero_id')['assists'].transform(\"mean\"))\n",
    "    # Avoid divide by zero for h_total_assists\n",
    "    all_stats['ph_assists_ratio'] = np.where(all_stats['h_total_assists'] == 0, 0, all_stats['assists']/ all_stats['h_total_assists'])\n",
    "\n",
    "    # Avoid divide by zero for matches_played\n",
    "    all_stats['ph_win_rate'] = np.where(all_stats['matches_played'] == 0, 0, all_stats['wins'] / all_stats['matches_played'])\n",
    "    all_stats['h_total_win_rate'] = (all_stats.groupby('hero_id')['ph_win_rate'].transform(\"mean\"))\n",
    "\n",
    "    # Avoid divide by zero for h_total_win_rate\n",
    "    all_stats['ph_win_rate_ratio'] = np.where(all_stats['h_total_win_rate'] == 0, 0, all_stats['ph_win_rate'] / all_stats['h_total_win_rate'])\n",
    "\n",
    "    all_stats.rename(columns={\n",
    "        \"wins\": \"ph_wins\",\n",
    "        \"kills\": \"ph_kills\",\n",
    "        \"deaths\": \"ph_deaths\",\n",
    "        \"assists\": \"ph_assists\",\n",
    "        \"damage_per_min\": \"ph_damage_per_min\",\n",
    "        'time_played': 'ph_time_played'\n",
    "    }, inplace=True)\n",
    "\n",
    "    return ph_stats\n",
    "\n",
    "def create_hero_stats(player_hero_stats: pd.DataFrame) -> pd.DataFrame:\n",
    "    \"\"\"\n",
    "    Create hero stats by aggregating the player_hero_stats DataFrame.\n",
    "    \"\"\"\n",
    "    hero_stats = player_hero_stats.copy()\n",
    "\n",
    "    hero_stats['h_total_kd'] = (hero_stats.groupby('hero_id')['ph_total_kd'].transform(\"mean\"))\n",
    "\n",
    "\n",
    "    return hero_stats\n",
    "\n",
    "def create_player_stats(player_match_stats: pd.DataFrame) -> pd.DataFrame:\n",
    "    \"\"\"\n",
    "    Create player stats by aggregating the player_match_stats DataFrame.\n",
    "    \"\"\"\n",
    "    player_stats = player_match_stats.copy()"
   ]
  },
  {
   "cell_type": "code",
   "execution_count": null,
   "id": "0ca0bcb5",
   "metadata": {},
   "outputs": [],
   "source": []
  },
  {
   "cell_type": "code",
   "execution_count": null,
   "id": "9715fe93",
   "metadata": {},
   "outputs": [],
   "source": [
    "# step 1a\n",
    "# Check naming and ensure unique across datasets\n",
    "player_hero_stats, player_stats, hero_stats"
   ]
  },
  {
   "cell_type": "code",
   "execution_count": null,
   "id": "0469139c",
   "metadata": {},
   "outputs": [],
   "source": [
    "# step 1\n",
    "# Merge Player and Player_hero stats\n"
   ]
  },
  {
   "cell_type": "code",
   "execution_count": null,
   "id": "0657ad01",
   "metadata": {},
   "outputs": [],
   "source": [
    "# step 2\n",
    "# Merge player_player_hero and hero stats"
   ]
  },
  {
   "cell_type": "code",
   "execution_count": null,
   "id": "febb7a65",
   "metadata": {},
   "outputs": [],
   "source": [
    "# Step 3\n",
    "# calculate player, player_hero stats\n",
    "calc_stats = calculate_ph_stats(ph_h_p_stats)"
   ]
  },
  {
   "cell_type": "code",
   "execution_count": null,
   "id": "e0acd495",
   "metadata": {},
   "outputs": [],
   "source": [
    "# Step 4\n",
    "# Merge p_ph_h_calc_stats with player_matches\n",
    "\n"
   ]
  },
  {
   "cell_type": "code",
   "execution_count": null,
   "id": "4e9503a2",
   "metadata": {},
   "outputs": [],
   "source": [
    "# ?"
   ]
  }
 ],
 "metadata": {
  "kernelspec": {
   "display_name": ".venv",
   "language": "python",
   "name": "python3"
  },
  "language_info": {
   "codemirror_mode": {
    "name": "ipython",
    "version": 3
   },
   "file_extension": ".py",
   "mimetype": "text/x-python",
   "name": "python",
   "nbconvert_exporter": "python",
   "pygments_lexer": "ipython3",
   "version": "3.12.6"
  }
 },
 "nbformat": 4,
 "nbformat_minor": 5
}
