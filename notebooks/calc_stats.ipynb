{
 "cells": [
  {
   "cell_type": "code",
   "execution_count": 1,
   "id": "94a54e45",
   "metadata": {},
   "outputs": [],
   "source": [
    "import requests\n",
    "import json\n",
    "import os\n",
    "import sys\n",
    "import pandas as pd\n",
    "import logging\n",
    "from urllib.parse import urlencode\n",
    "import time\n",
    "from datetime import timedelta, datetime, timezone\n",
    "from data.fetch_data import bulk_fetch_matches\n",
    "from typing import Optional, Dict, Any, Iterable, List\n",
    "\n",
    "logging.basicConfig(level=logging.DEBUG)\n",
    "logging = logging.getLogger(__name__)\n"
   ]
  },
  {
   "cell_type": "code",
   "execution_count": 2,
   "id": "6eef4009",
   "metadata": {},
   "outputs": [],
   "source": [
    "start_date = \"2025-08-19\"\n",
    "end_date = \"2025-08-21\"\n",
    "folder_name = f\"v2_data//pred_data//test_pred_v2_{start_date}_{end_date}\""
   ]
  },
  {
   "cell_type": "code",
   "execution_count": 16,
   "id": "88bbc13d",
   "metadata": {},
   "outputs": [],
   "source": [
    "# Load data from .csvs\n",
    "\n",
    "# Player <> Match Linking table\n",
    "player_matches = pd.read_csv(f\"{folder_name}/player_matches.csv\")\n",
    "\n",
    "# player stats across lifetime of player\n",
    "player_stats = pd.read_csv(f\"{folder_name}/p_stats.csv\")\n",
    "\n",
    "# player hero stats across liftetime of games played\n",
    "player_hero_stats = pd.read_csv(f\"{folder_name}/player_hero_stats.csv\")\n",
    "\n",
    "# raw hero stats for badge 100+ based on end_date\n",
    "hero_stats = pd.read_csv(f\"{folder_name}/hero_stats.csv\")"
   ]
  },
  {
   "cell_type": "code",
   "execution_count": 17,
   "id": "eb3eedc0",
   "metadata": {},
   "outputs": [],
   "source": [
    "def check_unique_naming(p_h_stats=None,\n",
    "                        p_stats=None, \n",
    "                        h_stats=None\n",
    "                        ) -> tuple[pd.DataFrame, pd.DataFrame, pd.DataFrame]:\n",
    "    static_names = ['account_id', 'hero_id', 'match_id']\n",
    "    if p_h_stats is not None:\n",
    "        p_h_stats = p_h_stats.rename(columns={col: f\"ph_{col}\" for col in p_h_stats.columns \n",
    "            if col not in static_names and not col.startswith('ph_')})\n",
    "    if p_stats is not None:\n",
    "        p_stats = p_stats.rename(columns={col: f\"p_{col}\" for col in p_stats.columns\n",
    "            if col not in static_names and not col.startswith('p_')})\n",
    "    if h_stats is not None:\n",
    "        h_stats = h_stats.rename(columns={col: f\"h_{col}\" for col in h_stats.columns\n",
    "            if col not in static_names and not col.startswith('h_')})\n",
    "\n",
    "    return p_h_stats, p_stats, h_stats\n"
   ]
  },
  {
   "cell_type": "code",
   "execution_count": 18,
   "id": "94e07b4f",
   "metadata": {},
   "outputs": [],
   "source": [
    "player_hero_stats, player_stats, hero_stats = check_unique_naming(player_hero_stats, player_stats, hero_stats)"
   ]
  },
  {
   "cell_type": "code",
   "execution_count": null,
   "id": "c4a959db",
   "metadata": {},
   "outputs": [],
   "source": [
    "def merge_stats(player_stats, player_hero_stats, hero_stats)->pd.DataFrame:\n",
    "    p_ph_stats = player_stats.merge(player_hero_stats, on='account_id')\n",
    "    p_ph_h_stats = p_ph_stats.merge(hero_stats, on='hero_id')\n",
    "\n",
    "    move_col = 'hero_id'\n",
    "    pos = 1\n",
    "\n",
    "    col = p_ph_h_stats.pop(move_col)\n",
    "    p_ph_h_stats.insert(pos, move_col, col)\n",
    "\n",
    "    return p_ph_h_stats"
   ]
  },
  {
   "cell_type": "code",
   "execution_count": 24,
   "id": "4a979130",
   "metadata": {},
   "outputs": [],
   "source": [
    "p_ph_h_stats = merge_stats(player_stats, player_hero_stats, hero_stats)"
   ]
  },
  {
   "cell_type": "code",
   "execution_count": 32,
   "id": "a8689062",
   "metadata": {},
   "outputs": [],
   "source": [
    "p_ph_h_stats.to_csv(f\"{folder_name}/p_ph_h_stats.csv\", index=False)"
   ]
  },
  {
   "cell_type": "code",
   "execution_count": null,
   "id": "164ed6a1",
   "metadata": {},
   "outputs": [],
   "source": [
    "# Dated fucntion that handled renmae and merge in one. now split.\n",
    "# def merge_pm_h_p_stats(p_m_stats, ph_stats, h_stats,)-> pd.DataFrame:\n",
    "#     \"\"\"merges hero_stats on df, where hero_id=hero_id, adds suffix 'h_' to hero_stats columns\"\"\"\n",
    "\n",
    "#     h_stats_copy = h_stats.copy()\n",
    "#     ph_stats_copy = ph_stats.copy()\n",
    "#     p_m_stats_copy = p_m_stats.copy()\n",
    "\n",
    "#     h_stats_copy = h_stats_copy.rename(columns={'h_hero_id': 'hero_id'})\n",
    "\n",
    "#     ph_stats_copy = ph_stats_copy.add_prefix('ph_')\n",
    "#     ph_stats_copy = ph_stats_copy.rename(columns={\n",
    "#         'ph_hero_id': 'hero_id',\n",
    "#         'ph_account_id': 'account_id',\n",
    "#         'ph_match_id':'match_id','ph_team':'team',\n",
    "#         'ph_winning_team':'winning_team','ph_win':'win'})\n",
    "\n",
    "#     merged = pd.merge(p_m_stats_copy, h_stats_copy, on=\"hero_id\", suffixes=(\"\", \"\"))\n",
    "#     print(f'merged: \\n\\n{merged}')\n",
    "\n",
    "#     all_merged = pd.merge(merged, ph_stats_copy, on=['account_id', 'hero_id'], how='left')\n",
    "\n",
    "#     return all_merged\n",
    "\n",
    "#     merged = pd.merge(merged, ph_stats_copy, on=['account_id', 'hero_id'], suffixes=(\"\", \"\"))"
   ]
  },
  {
   "cell_type": "code",
   "execution_count": 34,
   "id": "c31f3340",
   "metadata": {},
   "outputs": [
    {
     "data": {
      "text/plain": [
       "Index(['account_id', 'hero_id', 'p_total_matches_played', 'p_total_kills',\n",
       "       'p_total_deaths', 'p_total_wins', 'p_total_assists',\n",
       "       'p_total_time_played', 'p_avg_kills', 'p_win_rate', 'ph_matches_played',\n",
       "       'ph_last_played', 'ph_time_played', 'ph_wins', 'ph_ending_level',\n",
       "       'ph_kills', 'ph_deaths', 'ph_assists', 'ph_denies_per_match',\n",
       "       'ph_kills_per_min', 'ph_deaths_per_min', 'ph_assists_per_min',\n",
       "       'ph_denies_per_min', 'ph_networth_per_min', 'ph_last_hits_per_min',\n",
       "       'ph_damage_per_min', 'ph_damage_per_soul',\n",
       "       'ph_damage_mitigated_per_min', 'ph_damage_taken_per_min',\n",
       "       'ph_damage_taken_per_soul', 'ph_creeps_per_min',\n",
       "       'ph_obj_damage_per_min', 'ph_obj_damage_per_soul', 'ph_accuracy',\n",
       "       'ph_crit_shot_rate', 'h_bucket', 'h_wins', 'h_losses', 'h_matches',\n",
       "       'h_matches_per_bucket', 'h_players', 'h_total_kills', 'h_total_deaths',\n",
       "       'h_total_assists', 'h_total_net_worth', 'h_total_last_hits',\n",
       "       'h_total_denies', 'h_total_player_damage',\n",
       "       'h_total_player_damage_taken', 'h_total_boss_damage',\n",
       "       'h_total_creep_damage', 'h_total_neutral_damage', 'h_total_max_health',\n",
       "       'h_total_shots_hit', 'h_total_shots_missed'],\n",
       "      dtype='object')"
      ]
     },
     "execution_count": 34,
     "metadata": {},
     "output_type": "execute_result"
    }
   ],
   "source": [
    "p_ph_h_stats.columns"
   ]
  },
  {
   "cell_type": "code",
   "execution_count": 42,
   "id": "85e6863a",
   "metadata": {},
   "outputs": [],
   "source": [
    "test = p_ph_h_stats.copy()\n",
    "import numpy as np"
   ]
  },
  {
   "cell_type": "code",
   "execution_count": 43,
   "id": "8fea9775",
   "metadata": {},
   "outputs": [
    {
     "data": {
      "text/plain": [
       "0        31.747236\n",
       "1        38.366667\n",
       "2        30.396667\n",
       "3        31.863842\n",
       "4        32.718333\n",
       "           ...    \n",
       "51500    24.100000\n",
       "51501    20.656667\n",
       "51502    27.816667\n",
       "51503    25.166667\n",
       "51504    31.204762\n",
       "Name: ph_avg_match_length, Length: 51505, dtype: float64"
      ]
     },
     "execution_count": 43,
     "metadata": {},
     "output_type": "execute_result"
    }
   ],
   "source": [
    "test['ph_avg_match_length'] = np.where(test['ph_time_played'] == 0, 0,\n",
    "                                        test['ph_time_played'] / test['ph_matches_played']/60)\n",
    "test['ph_avg_match_length']"
   ]
  },
  {
   "cell_type": "code",
   "execution_count": 44,
   "id": "4eee7fe4",
   "metadata": {},
   "outputs": [
    {
     "data": {
      "text/plain": [
       "0        23034.805760\n",
       "1        27868.000000\n",
       "2        18392.081920\n",
       "3        29362.850935\n",
       "4        25468.398393\n",
       "             ...     \n",
       "51500    29653.000000\n",
       "51501    22989.599596\n",
       "51502    28739.817871\n",
       "51503    28493.000000\n",
       "51504    26029.407662\n",
       "Name: ph_avg_damage_per_match, Length: 51505, dtype: float64"
      ]
     },
     "execution_count": 44,
     "metadata": {},
     "output_type": "execute_result"
    }
   ],
   "source": [
    "test['ph_avg_damage_per_match'] = np.where(test['ph_avg_match_length'] == 0, 0,\n",
    "                                        test['ph_damage_per_min'] * test['ph_avg_match_length'])\n",
    "test['ph_avg_damage_per_match']"
   ]
  },
  {
   "cell_type": "code",
   "execution_count": 51,
   "id": "b8f3b86e",
   "metadata": {},
   "outputs": [],
   "source": [
    "def calculate_ph_stats(p_ph_h_stats: pd.DataFrame) -> pd.DataFrame:\n",
    "    \"\"\"\n",
    "    Create player hero stats by aggregating the player_hero_stats DataFrame.\n",
    "    Creates aggregate function across all hero_stats for players in df.\n",
    "    Checks for potential divide by zero errors and sets result to 0 if denominator is zero.\n",
    "    \"\"\"\n",
    "    import numpy as np\n",
    "    \n",
    "    all_stats = p_ph_h_stats.copy()\n",
    "\n",
    "    # player_hero kd for the player<>hero combo\n",
    "    all_stats['ph_total_kd'] = np.where(all_stats['ph_deaths'] == 0, 0, \n",
    "                                        all_stats['ph_kills'] / all_stats['ph_deaths'])\n",
    "\n",
    "    # all 100 badge hero stats, total kd- used to compare player performance with hero\n",
    "    all_stats['h_total_kd'] = np.where(all_stats['h_total_deaths'] == 0, 0, \n",
    "                                        all_stats['h_total_kills'] / all_stats['h_total_deaths'])\n",
    "\n",
    "    # compares player_hero kd to average hero_kd - player skill with hero.\n",
    "    all_stats['ph_kd_ratio'] = np.where(all_stats['ph_total_kd'] == 0, 0, \n",
    "                                        all_stats['ph_total_kd']/ all_stats['h_total_kd'])\n",
    "\n",
    "    # What % of matches the player played with hero, compared to all matches played with hero.\n",
    "    all_stats['ph_hero_xp_ratio'] = np.where(all_stats['ph_matches_played'] == 0, 0, \n",
    "                                        all_stats['ph_matches_played'] / all_stats['h_matches'])\n",
    "    \n",
    "    # Create damage per match ratio, player_hero to hero\n",
    "    all_stats['ph_avg_match_length'] = np.where(all_stats['ph_time_played'] == 0, 0,\n",
    "                                        all_stats['ph_time_played'] / all_stats['ph_matches_played']/60)\n",
    "    all_stats['ph_avg_damage_per_match'] = np.where(all_stats['ph_avg_match_length'] == 0, 0,\n",
    "                                        all_stats['ph_damage_per_min'] * all_stats['ph_avg_match_length'])\n",
    "    all_stats['h_damage_per_match'] = np.where(all_stats['h_matches'] == 0, 0,\n",
    "                                        all_stats['h_total_player_damage'] / all_stats['h_matches'])\n",
    "    all_stats['ph_damage_ratio'] = np.where(all_stats['ph_avg_damage_per_match'] == 0, 0,\n",
    "                                        all_stats['ph_avg_damage_per_match'] / all_stats['h_damage_per_match'])\n",
    "\n",
    "    # player_hero ratios\n",
    "    all_stats['ph_assists_ratio'] = np.where(all_stats['h_total_assists'] == 0, 0, \n",
    "                                            all_stats['ph_assists']/ all_stats['h_total_assists'])\n",
    "    all_stats['ph_win_rate'] = np.where(all_stats['ph_matches_played'] == 0, 0, \n",
    "                                        all_stats['ph_wins'] / all_stats['ph_matches_played'])\n",
    "    all_stats['h_total_win_rate'] = np.where(all_stats['h_matches'] == 0, 0,\n",
    "                                        all_stats['h_wins'] / all_stats['h_matches'])\n",
    "    all_stats['ph_win_rate_ratio'] = np.where(all_stats['ph_win_rate'] == 0, 0, \n",
    "                                            all_stats['ph_win_rate'] / all_stats['h_total_win_rate'])\n",
    "    \n",
    "    return all_stats"
   ]
  },
  {
   "cell_type": "code",
   "execution_count": 52,
   "id": "0ca0bcb5",
   "metadata": {},
   "outputs": [],
   "source": [
    "all_stats = calculate_ph_stats(p_ph_h_stats)"
   ]
  },
  {
   "cell_type": "code",
   "execution_count": 53,
   "id": "080a3ffd",
   "metadata": {},
   "outputs": [
    {
     "data": {
      "text/plain": [
       "Index(['account_id', 'hero_id', 'p_total_matches_played', 'p_total_kills',\n",
       "       'p_total_deaths', 'p_total_wins', 'p_total_assists',\n",
       "       'p_total_time_played', 'p_avg_kills', 'p_win_rate', 'ph_matches_played',\n",
       "       'ph_last_played', 'ph_time_played', 'ph_wins', 'ph_ending_level',\n",
       "       'ph_kills', 'ph_deaths', 'ph_assists', 'ph_denies_per_match',\n",
       "       'ph_kills_per_min', 'ph_deaths_per_min', 'ph_assists_per_min',\n",
       "       'ph_denies_per_min', 'ph_networth_per_min', 'ph_last_hits_per_min',\n",
       "       'ph_damage_per_min', 'ph_damage_per_soul',\n",
       "       'ph_damage_mitigated_per_min', 'ph_damage_taken_per_min',\n",
       "       'ph_damage_taken_per_soul', 'ph_creeps_per_min',\n",
       "       'ph_obj_damage_per_min', 'ph_obj_damage_per_soul', 'ph_accuracy',\n",
       "       'ph_crit_shot_rate', 'h_bucket', 'h_wins', 'h_losses', 'h_matches',\n",
       "       'h_matches_per_bucket', 'h_players', 'h_total_kills', 'h_total_deaths',\n",
       "       'h_total_assists', 'h_total_net_worth', 'h_total_last_hits',\n",
       "       'h_total_denies', 'h_total_player_damage',\n",
       "       'h_total_player_damage_taken', 'h_total_boss_damage',\n",
       "       'h_total_creep_damage', 'h_total_neutral_damage', 'h_total_max_health',\n",
       "       'h_total_shots_hit', 'h_total_shots_missed', 'ph_total_kd',\n",
       "       'h_total_kd', 'ph_kd_ratio', 'ph_hero_xp_ratio', 'ph_avg_match_length',\n",
       "       'ph_avg_damage_per_match', 'h_damage_per_match', 'ph_damage_ratio',\n",
       "       'ph_assists_ratio', 'ph_win_rate', 'h_total_win_rate',\n",
       "       'ph_win_rate_ratio'],\n",
       "      dtype='object')"
      ]
     },
     "execution_count": 53,
     "metadata": {},
     "output_type": "execute_result"
    }
   ],
   "source": [
    "all_stats.columns"
   ]
  },
  {
   "cell_type": "code",
   "execution_count": 54,
   "id": "ba4c23ae",
   "metadata": {},
   "outputs": [],
   "source": [
    "all_stats.to_csv(f\"{folder_name}/all_stats.csv\", index=False)"
   ]
  }
 ],
 "metadata": {
  "kernelspec": {
   "display_name": ".venv",
   "language": "python",
   "name": "python3"
  },
  "language_info": {
   "codemirror_mode": {
    "name": "ipython",
    "version": 3
   },
   "file_extension": ".py",
   "mimetype": "text/x-python",
   "name": "python",
   "nbconvert_exporter": "python",
   "pygments_lexer": "ipython3",
   "version": "3.12.6"
  }
 },
 "nbformat": 4,
 "nbformat_minor": 5
}
