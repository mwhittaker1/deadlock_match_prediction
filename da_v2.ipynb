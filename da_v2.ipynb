{
 "cells": [
  {
   "cell_type": "code",
   "execution_count": null,
   "id": "08caff23",
   "metadata": {},
   "outputs": [],
   "source": [
    "import pandas as pd\n",
    "import numpy as np\n",
    "import matplotlib.pyplot as plt\n",
    "\n",
    "training_data = pd.read_csv(f\"v2_data/training_data_2025-08-14.csv\")\n"
   ]
  },
  {
   "cell_type": "code",
   "execution_count": null,
   "id": "392918d1",
   "metadata": {},
   "outputs": [],
   "source": [
    "training_data.head(10)"
   ]
  },
  {
   "cell_type": "code",
   "execution_count": null,
   "id": "3a74a7ed",
   "metadata": {},
   "outputs": [],
   "source": [
    "for col in training_data.columns:\n",
    "    print(f\"{col}: {training_data[col].dtype}\")\n"
   ]
  },
  {
   "cell_type": "code",
   "execution_count": null,
   "id": "a497c716",
   "metadata": {},
   "outputs": [],
   "source": [
    "plt.scatter(\n",
    "    training_data['p_total_time_played_median_y'],\n",
    "    training_data['ph_total_kd_median_y'],\n",
    "    label='Time Played vs KD',\n",
    "    color='green',\n",
    "    marker='x',\n",
    "    alpha=0.7\n",
    ")\n",
    "plt.xlabel('X Median Time Played')\n",
    "plt.ylabel('X Median KD')\n",
    "plt.title('Scatter: Time Played vs KD (X)')\n",
    "plt.legend()\n",
    "plt.grid(True)\n",
    "plt.show()"
   ]
  }
 ],
 "metadata": {
  "kernelspec": {
   "display_name": ".venv",
   "language": "python",
   "name": "python3"
  },
  "language_info": {
   "codemirror_mode": {
    "name": "ipython",
    "version": 3
   },
   "file_extension": ".py",
   "mimetype": "text/x-python",
   "name": "python",
   "nbconvert_exporter": "python",
   "pygments_lexer": "ipython3",
   "version": "3.12.6"
  }
 },
 "nbformat": 4,
 "nbformat_minor": 5
}
