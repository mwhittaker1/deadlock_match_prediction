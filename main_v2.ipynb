{
 "cells": [
  {
   "cell_type": "code",
   "execution_count": null,
   "id": "28111a72",
   "metadata": {},
   "outputs": [],
   "source": []
  },
  {
   "cell_type": "code",
   "execution_count": null,
   "id": "ae2a6cab",
   "metadata": {},
   "outputs": [],
   "source": [
    "# Load data into dfs\n",
    "import pandas as pd\n",
    "\n",
    "# Read CSV files into DataFrames\n",
    "matches = pd.read_csv(\"v2_data/matches.csv\") # matches with outcome\n",
    "player_hero_stats = pd.read_csv(\"v2_data/player_hero_stats_full8.12.25.csv\") # each players stats, broken down by hero\n",
    "player_stats = pd.read_csv(\"v2_data/player_stats_with_retries.csv\") # aggregated player stats as totals (total kills, deaths, matches)\n",
    "players = pd.read_csv(\"v2_data/players.csv\") # player <> match <> hero data\n",
    "\n",
    "print(f\"Matches csv: \\n\\n{matches.head()}\")\n",
    "print(f\"Player Hero Stats csv: \\n\\n{player_hero_stats.head()}\")\n",
    "print(f\"Player Stats csv: \\n\\n{player_stats.head()}\")\n",
    "print(f\"Players csv: \\n\\n{players.head()}\")"
   ]
  },
  {
   "cell_type": "code",
   "execution_count": null,
   "id": "76564af2",
   "metadata": {},
   "outputs": [],
   "source": [
    "# Merge player stats onto players (which is player+match data)\n",
    "player_match_stats = pd.merge(players,player_stats, on=\"account_id\",how=\"left\")\n",
    "print(f\"Player Match Stats csv: \\n\\n{player_match_stats.head()}\")"
   ]
  },
  {
   "cell_type": "code",
   "execution_count": null,
   "id": "17c4dd4e",
   "metadata": {},
   "outputs": [],
   "source": [
    "# rename columns to indicate player stats from match stats\n",
    "player_match_stats.rename(columns={\n",
    "    \"kills\": \"pm_kills\",\n",
    "    \"deaths\": \"pm_deaths\",\n",
    "    \"assists\": \"pm_assists\",\n",
    "    \"damage_per_min\": \"pm_damage_per_min\",\n",
    "    \"denies\": \"pm_denies\",\n",
    "    \"net_worth\": \"pm_net_worth\",\n",
    "    \"win\": \"pm_win\",\n",
    "    'matches_played': 'p_total_matches_played',\n",
    "    'total_kills': 'p_total_kills',\n",
    "    'total_deaths': 'p_total_deaths',\n",
    "    'total_assists': 'p_total_assists',\n",
    "    'avg_kd': 'p_total_avg_kd',\n",
    "    'win_rate': 'p_total_win_rate',\n",
    "    'total_time_played': 'p_total_time_played'\n",
    "})"
   ]
  },
  {
   "cell_type": "code",
   "execution_count": null,
   "id": "ad2e0b4e",
   "metadata": {},
   "outputs": [],
   "source": [
    "player_match_stats.to_csv(\"v2_data/player_match_stats8.12.csv\")"
   ]
  },
  {
   "cell_type": "code",
   "execution_count": null,
   "id": "9451c3a3",
   "metadata": {},
   "outputs": [],
   "source": [
    "# build player_hero features, starting with a test set\n",
    "test_player_hero = player_hero_stats.copy()"
   ]
  },
  {
   "cell_type": "code",
   "execution_count": null,
   "id": "64926d65",
   "metadata": {},
   "outputs": [],
   "source": [
    "import numpy as np\n",
    "from sklearn.preprocessing import MinMaxScaler\n",
    "\n",
    "def create_player_hero_stats(ph_stats_base):\n",
    "    \"\"\"\n",
    "    Create player hero stats by aggregating the player_hero_stats DataFrame.\n",
    "    \"\"\"\n",
    "    ph_stats = pd.DataFrame()\n",
    "    ph_stats = ph_stats_base.copy()\n",
    "    ph_stats['ph_total_kd'] = np.where(ph_stats['deaths'] == 0, 0, ph_stats['kills'] / ph_stats['deaths'])\n",
    "    ph_stats['h_total_kd'] = (ph_stats.groupby('hero_id')['ph_total_kd'].transform(\"mean\"))\n",
    "    ph_stats['ph_kd_ratio'] = ph_stats['h_total_kd']/ ph_stats['ph_total_kd']\n",
    "    ph_stats['h_avg_total_time_played'] = (ph_stats.groupby('hero_id')['time_played'].transform(\"mean\"))\n",
    "    ph_stats['ph_time_played_ratio'] = ph_stats['time_played']/ ph_stats['h_avg_total_time_played']\n",
    "    ph_stats['h_total_damage_per_min'] = (ph_stats.groupby('hero_id')['damage_per_min'].transform(\"mean\"))\n",
    "    ph_stats['ph_damage_per_min_ratio'] = ph_stats['damage_per_min']/ ph_stats['h_total_damage_per_min']\n",
    "    ph_stats['h_total_assists'] = (ph_stats.groupby('hero_id')['assists'].transform(\"mean\"))\n",
    "    ph_stats['ph_assists_ratio'] = ph_stats['assists']/ ph_stats['h_total_assists']\n",
    "    ph_stats.rename(columns={\n",
    "        \"wins\": \"ph_wins\",\n",
    "        \"kills\": \"ph_kills\",\n",
    "        \"deaths\": \"ph_deaths\",\n",
    "        \"assists\": \"ph_assists\",\n",
    "        \"damage_per_min\": \"ph_damage_per_min\",\n",
    "        'time_played': 'ph_time_played'\n",
    "    })\n",
    "\n",
    "    return ph_stats"
   ]
  },
  {
   "cell_type": "code",
   "execution_count": null,
   "id": "cae12d4f",
   "metadata": {},
   "outputs": [],
   "source": [
    "# testiong different aggregations\n",
    "# import numpy as np\n",
    "# def test(df):\n",
    "#     \"\"\"\n",
    "#     Create player hero stats by aggregating the player_hero_stats DataFrame.\n",
    "#     \"\"\"\n",
    "\n",
    "\n",
    "#     return df\n",
    "\n",
    "# test_player_hero = test(test_player_hero)\n",
    "# test_player_hero.head(30)"
   ]
  },
  {
   "cell_type": "code",
   "execution_count": null,
   "id": "de122a6c",
   "metadata": {},
   "outputs": [],
   "source": [
    "calc_player_hero_stats = create_player_hero_stats(player_hero_stats)\n",
    "calc_player_hero_stats.head(10)"
   ]
  },
  {
   "cell_type": "code",
   "execution_count": null,
   "id": "f2d33a4f",
   "metadata": {},
   "outputs": [],
   "source": [
    "calc_player_hero_stats.describe()"
   ]
  },
  {
   "cell_type": "markdown",
   "id": "6f61a002",
   "metadata": {},
   "source": [
    "Currently, stat names are duplicated, need to ensure they are p_stat, ph_stat, or h_stat."
   ]
  },
  {
   "cell_type": "code",
   "execution_count": null,
   "id": "5a980c44",
   "metadata": {},
   "outputs": [],
   "source": [
    "# join player_match_stats on player_hero_stats on account_id AND hero_id\n",
    "merged_stats = pd.merge(player_match_stats,calc_player_hero_stats,on=[\"hero_id\", \"account_id\"], how=\"left\")\n",
    "merged_stats.head(11)"
   ]
  },
  {
   "cell_type": "code",
   "execution_count": null,
   "id": "93b8bdc4",
   "metadata": {},
   "outputs": [],
   "source": [
    "merged_stats.to_csv(\"v2_data/merged_stats8.12_v2.csv\")"
   ]
  },
  {
   "cell_type": "code",
   "execution_count": null,
   "id": "e0605442",
   "metadata": {},
   "outputs": [],
   "source": [
    "tean_stats = merged_stats.groupby()"
   ]
  }
 ],
 "metadata": {
  "kernelspec": {
   "display_name": ".venv",
   "language": "python",
   "name": "python3"
  },
  "language_info": {
   "codemirror_mode": {
    "name": "ipython",
    "version": 3
   },
   "file_extension": ".py",
   "mimetype": "text/x-python",
   "name": "python",
   "nbconvert_exporter": "python",
   "pygments_lexer": "ipython3",
   "version": "3.12.6"
  }
 },
 "nbformat": 4,
 "nbformat_minor": 5
}
