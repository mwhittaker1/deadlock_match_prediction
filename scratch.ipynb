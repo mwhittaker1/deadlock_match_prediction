{
 "cells": [
  {
   "cell_type": "code",
   "execution_count": 19,
   "id": "3db4b39b",
   "metadata": {},
   "outputs": [],
   "source": [
    "import pandas as pd\n"
   ]
  },
  {
   "cell_type": "code",
   "execution_count": 10,
   "id": "b8034aff",
   "metadata": {},
   "outputs": [],
   "source": [
    "f = r\"v2_data\\training_data\\train_data_2025-07-01_2025-08-01\\training_data_vL1\\all_stats.csv\"\n",
    "all_stats = pd.read_csv(f)"
   ]
  },
  {
   "cell_type": "code",
   "execution_count": 3,
   "id": "4bbedb0d",
   "metadata": {},
   "outputs": [],
   "source": [
    "all_stats.drop(['h_bucket'], axis=1, inplace=True)"
   ]
  },
  {
   "cell_type": "code",
   "execution_count": 13,
   "id": "5de899f1",
   "metadata": {},
   "outputs": [
    {
     "data": {
      "text/html": [
       "<div>\n",
       "<style scoped>\n",
       "    .dataframe tbody tr th:only-of-type {\n",
       "        vertical-align: middle;\n",
       "    }\n",
       "\n",
       "    .dataframe tbody tr th {\n",
       "        vertical-align: top;\n",
       "    }\n",
       "\n",
       "    .dataframe thead th {\n",
       "        text-align: right;\n",
       "    }\n",
       "</style>\n",
       "<table border=\"1\" class=\"dataframe\">\n",
       "  <thead>\n",
       "    <tr style=\"text-align: right;\">\n",
       "      <th></th>\n",
       "      <th>account_id</th>\n",
       "      <th>hero_id</th>\n",
       "      <th>ph_matches_played</th>\n",
       "      <th>ph_last_played</th>\n",
       "      <th>ph_time_played</th>\n",
       "      <th>ph_wins</th>\n",
       "      <th>ph_ending_level</th>\n",
       "      <th>ph_kills</th>\n",
       "      <th>ph_deaths</th>\n",
       "      <th>ph_assists</th>\n",
       "      <th>...</th>\n",
       "      <th>ph_kd_ratio</th>\n",
       "      <th>ph_hero_xp_ratio</th>\n",
       "      <th>ph_avg_match_length</th>\n",
       "      <th>ph_avg_damage_per_match</th>\n",
       "      <th>h_damage_per_match</th>\n",
       "      <th>ph_damage_ratio</th>\n",
       "      <th>ph_assists_ratio</th>\n",
       "      <th>ph_win_rate</th>\n",
       "      <th>h_total_win_rate</th>\n",
       "      <th>ph_win_rate_ratio</th>\n",
       "    </tr>\n",
       "  </thead>\n",
       "  <tbody>\n",
       "  </tbody>\n",
       "</table>\n",
       "<p>0 rows × 63 columns</p>\n",
       "</div>"
      ],
      "text/plain": [
       "Empty DataFrame\n",
       "Columns: [account_id, hero_id, ph_matches_played, ph_last_played, ph_time_played, ph_wins, ph_ending_level, ph_kills, ph_deaths, ph_assists, ph_denies_per_match, ph_kills_per_min, ph_deaths_per_min, ph_assists_per_min, ph_denies_per_min, ph_networth_per_min, ph_last_hits_per_min, ph_damage_per_min, ph_damage_mitigated_per_min, ph_damage_taken_per_min, ph_creeps_per_min, ph_obj_damage_per_min, ph_accuracy, ph_crit_shot_rate, p_total_matches_played, p_total_kills, p_total_deaths, p_total_wins, p_total_assists, p_total_time_played, p_avg_kills, p_win_rate, h_wins, h_losses, h_matches, h_matches_per_bucket, h_players, h_total_kills, h_total_deaths, h_total_assists, h_total_net_worth, h_total_last_hits, h_total_denies, h_total_player_damage, h_total_player_damage_taken, h_total_boss_damage, h_total_creep_damage, h_total_neutral_damage, h_total_max_health, h_total_shots_hit, h_total_shots_missed, ph_total_kd, h_total_kd, ph_kd_ratio, ph_hero_xp_ratio, ph_avg_match_length, ph_avg_damage_per_match, h_damage_per_match, ph_damage_ratio, ph_assists_ratio, ph_win_rate, h_total_win_rate, ph_win_rate_ratio]\n",
       "Index: []\n",
       "\n",
       "[0 rows x 63 columns]"
      ]
     },
     "execution_count": 13,
     "metadata": {},
     "output_type": "execute_result"
    }
   ],
   "source": [
    "all_stats[all_stats.isna().any(axis=1)]"
   ]
  },
  {
   "cell_type": "code",
   "execution_count": 17,
   "id": "3d429758",
   "metadata": {},
   "outputs": [
    {
     "data": {
      "text/plain": [
       "[]"
      ]
     },
     "execution_count": 17,
     "metadata": {},
     "output_type": "execute_result"
    }
   ],
   "source": [
    "nan_locations = (all_stats == \"nan\")\n",
    "nan_indices = nan_locations.stack()[nan_locations.stack()].index.tolist()\n",
    "nan_indices"
   ]
  },
  {
   "cell_type": "code",
   "execution_count": 4,
   "id": "d9ca2df5",
   "metadata": {},
   "outputs": [
    {
     "data": {
      "text/plain": [
       "[]"
      ]
     },
     "execution_count": 4,
     "metadata": {},
     "output_type": "execute_result"
    }
   ],
   "source": [
    "all_stats.drop(['ph_damage_per_soul','ph_obj_damage_per_soul','ph_damage_taken_per_soul'], axis=1, inplace=True)\n",
    "nan_locations = all_stats.isna()\n",
    "nan_indices = nan_locations.stack()[nan_locations.stack()].index.tolist()\n",
    "nan_indices"
   ]
  },
  {
   "cell_type": "code",
   "execution_count": 11,
   "id": "5cc59c73",
   "metadata": {},
   "outputs": [
    {
     "data": {
      "text/plain": [
       "Index(['account_id', 'hero_id', 'ph_matches_played', 'ph_last_played',\n",
       "       'ph_time_played', 'ph_wins', 'ph_ending_level', 'ph_kills', 'ph_deaths',\n",
       "       'ph_assists', 'ph_denies_per_match', 'ph_kills_per_min',\n",
       "       'ph_deaths_per_min', 'ph_assists_per_min', 'ph_denies_per_min',\n",
       "       'ph_networth_per_min', 'ph_last_hits_per_min', 'ph_damage_per_min',\n",
       "       'ph_damage_mitigated_per_min', 'ph_damage_taken_per_min',\n",
       "       'ph_creeps_per_min', 'ph_obj_damage_per_min', 'ph_accuracy',\n",
       "       'ph_crit_shot_rate', 'p_total_matches_played', 'p_total_kills',\n",
       "       'p_total_deaths', 'p_total_wins', 'p_total_assists',\n",
       "       'p_total_time_played', 'p_avg_kills', 'p_win_rate', 'h_wins',\n",
       "       'h_losses', 'h_matches', 'h_matches_per_bucket', 'h_players',\n",
       "       'h_total_kills', 'h_total_deaths', 'h_total_assists',\n",
       "       'h_total_net_worth', 'h_total_last_hits', 'h_total_denies',\n",
       "       'h_total_player_damage', 'h_total_player_damage_taken',\n",
       "       'h_total_boss_damage', 'h_total_creep_damage', 'h_total_neutral_damage',\n",
       "       'h_total_max_health', 'h_total_shots_hit', 'h_total_shots_missed',\n",
       "       'ph_total_kd', 'h_total_kd', 'ph_kd_ratio', 'ph_hero_xp_ratio',\n",
       "       'ph_avg_match_length', 'ph_avg_damage_per_match', 'h_damage_per_match',\n",
       "       'ph_damage_ratio', 'ph_assists_ratio', 'ph_win_rate',\n",
       "       'h_total_win_rate', 'ph_win_rate_ratio'],\n",
       "      dtype='object')"
      ]
     },
     "execution_count": 11,
     "metadata": {},
     "output_type": "execute_result"
    }
   ],
   "source": [
    "all_stats.columns"
   ]
  },
  {
   "cell_type": "code",
   "execution_count": 12,
   "id": "07c2bd88",
   "metadata": {},
   "outputs": [
    {
     "ename": "KeyError",
     "evalue": "'[1.77618000e+05 1.75141272e+09 1.63406100e+06 ... 3.84689363e-05\\n 5.05534564e-01 1.97810411e+00] not in index'",
     "output_type": "error",
     "traceback": [
      "\u001b[31m---------------------------------------------------------------------------\u001b[39m",
      "\u001b[31mKeyError\u001b[39m                                  Traceback (most recent call last)",
      "\u001b[36mCell\u001b[39m\u001b[36m \u001b[39m\u001b[32mIn[12]\u001b[39m\u001b[32m, line 1\u001b[39m\n\u001b[32m----> \u001b[39m\u001b[32m1\u001b[39m nan_indices = \u001b[43mall_stats\u001b[49m\u001b[43m.\u001b[49m\u001b[43mstack\u001b[49m\u001b[43m(\u001b[49m\u001b[43m)\u001b[49m\u001b[43m[\u001b[49m\u001b[43mall_stats\u001b[49m\u001b[43m.\u001b[49m\u001b[43mstack\u001b[49m\u001b[43m(\u001b[49m\u001b[43m)\u001b[49m\u001b[43m]\u001b[49m.index.tolist()\n\u001b[32m      2\u001b[39m nan_indices\n",
      "\u001b[36mFile \u001b[39m\u001b[32mc:\\Code\\Local Code\\deadlock_match_prediction\\.venv\\Lib\\site-packages\\pandas\\core\\series.py:1153\u001b[39m, in \u001b[36mSeries.__getitem__\u001b[39m\u001b[34m(self, key)\u001b[39m\n\u001b[32m   1150\u001b[39m     key = np.asarray(key, dtype=\u001b[38;5;28mbool\u001b[39m)\n\u001b[32m   1151\u001b[39m     \u001b[38;5;28;01mreturn\u001b[39;00m \u001b[38;5;28mself\u001b[39m._get_rows_with_mask(key)\n\u001b[32m-> \u001b[39m\u001b[32m1153\u001b[39m \u001b[38;5;28;01mreturn\u001b[39;00m \u001b[38;5;28;43mself\u001b[39;49m\u001b[43m.\u001b[49m\u001b[43m_get_with\u001b[49m\u001b[43m(\u001b[49m\u001b[43mkey\u001b[49m\u001b[43m)\u001b[49m\n",
      "\u001b[36mFile \u001b[39m\u001b[32mc:\\Code\\Local Code\\deadlock_match_prediction\\.venv\\Lib\\site-packages\\pandas\\core\\series.py:1194\u001b[39m, in \u001b[36mSeries._get_with\u001b[39m\u001b[34m(self, key)\u001b[39m\n\u001b[32m   1191\u001b[39m         \u001b[38;5;28;01mreturn\u001b[39;00m \u001b[38;5;28mself\u001b[39m.iloc[key]\n\u001b[32m   1193\u001b[39m \u001b[38;5;66;03m# handle the dup indexing case GH#4246\u001b[39;00m\n\u001b[32m-> \u001b[39m\u001b[32m1194\u001b[39m \u001b[38;5;28;01mreturn\u001b[39;00m \u001b[38;5;28;43mself\u001b[39;49m\u001b[43m.\u001b[49m\u001b[43mloc\u001b[49m\u001b[43m[\u001b[49m\u001b[43mkey\u001b[49m\u001b[43m]\u001b[49m\n",
      "\u001b[36mFile \u001b[39m\u001b[32mc:\\Code\\Local Code\\deadlock_match_prediction\\.venv\\Lib\\site-packages\\pandas\\core\\indexing.py:1191\u001b[39m, in \u001b[36m_LocationIndexer.__getitem__\u001b[39m\u001b[34m(self, key)\u001b[39m\n\u001b[32m   1189\u001b[39m maybe_callable = com.apply_if_callable(key, \u001b[38;5;28mself\u001b[39m.obj)\n\u001b[32m   1190\u001b[39m maybe_callable = \u001b[38;5;28mself\u001b[39m._check_deprecated_callable_usage(key, maybe_callable)\n\u001b[32m-> \u001b[39m\u001b[32m1191\u001b[39m \u001b[38;5;28;01mreturn\u001b[39;00m \u001b[38;5;28;43mself\u001b[39;49m\u001b[43m.\u001b[49m\u001b[43m_getitem_axis\u001b[49m\u001b[43m(\u001b[49m\u001b[43mmaybe_callable\u001b[49m\u001b[43m,\u001b[49m\u001b[43m \u001b[49m\u001b[43maxis\u001b[49m\u001b[43m=\u001b[49m\u001b[43maxis\u001b[49m\u001b[43m)\u001b[49m\n",
      "\u001b[36mFile \u001b[39m\u001b[32mc:\\Code\\Local Code\\deadlock_match_prediction\\.venv\\Lib\\site-packages\\pandas\\core\\indexing.py:1420\u001b[39m, in \u001b[36m_LocIndexer._getitem_axis\u001b[39m\u001b[34m(self, key, axis)\u001b[39m\n\u001b[32m   1417\u001b[39m     \u001b[38;5;28;01mif\u001b[39;00m \u001b[38;5;28mhasattr\u001b[39m(key, \u001b[33m\"\u001b[39m\u001b[33mndim\u001b[39m\u001b[33m\"\u001b[39m) \u001b[38;5;129;01mand\u001b[39;00m key.ndim > \u001b[32m1\u001b[39m:\n\u001b[32m   1418\u001b[39m         \u001b[38;5;28;01mraise\u001b[39;00m \u001b[38;5;167;01mValueError\u001b[39;00m(\u001b[33m\"\u001b[39m\u001b[33mCannot index with multidimensional key\u001b[39m\u001b[33m\"\u001b[39m)\n\u001b[32m-> \u001b[39m\u001b[32m1420\u001b[39m     \u001b[38;5;28;01mreturn\u001b[39;00m \u001b[38;5;28;43mself\u001b[39;49m\u001b[43m.\u001b[49m\u001b[43m_getitem_iterable\u001b[49m\u001b[43m(\u001b[49m\u001b[43mkey\u001b[49m\u001b[43m,\u001b[49m\u001b[43m \u001b[49m\u001b[43maxis\u001b[49m\u001b[43m=\u001b[49m\u001b[43maxis\u001b[49m\u001b[43m)\u001b[49m\n\u001b[32m   1422\u001b[39m \u001b[38;5;66;03m# nested tuple slicing\u001b[39;00m\n\u001b[32m   1423\u001b[39m \u001b[38;5;28;01mif\u001b[39;00m is_nested_tuple(key, labels):\n",
      "\u001b[36mFile \u001b[39m\u001b[32mc:\\Code\\Local Code\\deadlock_match_prediction\\.venv\\Lib\\site-packages\\pandas\\core\\indexing.py:1360\u001b[39m, in \u001b[36m_LocIndexer._getitem_iterable\u001b[39m\u001b[34m(self, key, axis)\u001b[39m\n\u001b[32m   1357\u001b[39m \u001b[38;5;28mself\u001b[39m._validate_key(key, axis)\n\u001b[32m   1359\u001b[39m \u001b[38;5;66;03m# A collection of keys\u001b[39;00m\n\u001b[32m-> \u001b[39m\u001b[32m1360\u001b[39m keyarr, indexer = \u001b[38;5;28;43mself\u001b[39;49m\u001b[43m.\u001b[49m\u001b[43m_get_listlike_indexer\u001b[49m\u001b[43m(\u001b[49m\u001b[43mkey\u001b[49m\u001b[43m,\u001b[49m\u001b[43m \u001b[49m\u001b[43maxis\u001b[49m\u001b[43m)\u001b[49m\n\u001b[32m   1361\u001b[39m \u001b[38;5;28;01mreturn\u001b[39;00m \u001b[38;5;28mself\u001b[39m.obj._reindex_with_indexers(\n\u001b[32m   1362\u001b[39m     {axis: [keyarr, indexer]}, copy=\u001b[38;5;28;01mTrue\u001b[39;00m, allow_dups=\u001b[38;5;28;01mTrue\u001b[39;00m\n\u001b[32m   1363\u001b[39m )\n",
      "\u001b[36mFile \u001b[39m\u001b[32mc:\\Code\\Local Code\\deadlock_match_prediction\\.venv\\Lib\\site-packages\\pandas\\core\\indexing.py:1558\u001b[39m, in \u001b[36m_LocIndexer._get_listlike_indexer\u001b[39m\u001b[34m(self, key, axis)\u001b[39m\n\u001b[32m   1555\u001b[39m ax = \u001b[38;5;28mself\u001b[39m.obj._get_axis(axis)\n\u001b[32m   1556\u001b[39m axis_name = \u001b[38;5;28mself\u001b[39m.obj._get_axis_name(axis)\n\u001b[32m-> \u001b[39m\u001b[32m1558\u001b[39m keyarr, indexer = \u001b[43max\u001b[49m\u001b[43m.\u001b[49m\u001b[43m_get_indexer_strict\u001b[49m\u001b[43m(\u001b[49m\u001b[43mkey\u001b[49m\u001b[43m,\u001b[49m\u001b[43m \u001b[49m\u001b[43maxis_name\u001b[49m\u001b[43m)\u001b[49m\n\u001b[32m   1560\u001b[39m \u001b[38;5;28;01mreturn\u001b[39;00m keyarr, indexer\n",
      "\u001b[36mFile \u001b[39m\u001b[32mc:\\Code\\Local Code\\deadlock_match_prediction\\.venv\\Lib\\site-packages\\pandas\\core\\indexes\\multi.py:2763\u001b[39m, in \u001b[36mMultiIndex._get_indexer_strict\u001b[39m\u001b[34m(self, key, axis_name)\u001b[39m\n\u001b[32m   2760\u001b[39m \u001b[38;5;28;01mif\u001b[39;00m \u001b[38;5;28mlen\u001b[39m(keyarr) \u001b[38;5;129;01mand\u001b[39;00m \u001b[38;5;129;01mnot\u001b[39;00m \u001b[38;5;28misinstance\u001b[39m(keyarr[\u001b[32m0\u001b[39m], \u001b[38;5;28mtuple\u001b[39m):\n\u001b[32m   2761\u001b[39m     indexer = \u001b[38;5;28mself\u001b[39m._get_indexer_level_0(keyarr)\n\u001b[32m-> \u001b[39m\u001b[32m2763\u001b[39m     \u001b[38;5;28;43mself\u001b[39;49m\u001b[43m.\u001b[49m\u001b[43m_raise_if_missing\u001b[49m\u001b[43m(\u001b[49m\u001b[43mkey\u001b[49m\u001b[43m,\u001b[49m\u001b[43m \u001b[49m\u001b[43mindexer\u001b[49m\u001b[43m,\u001b[49m\u001b[43m \u001b[49m\u001b[43maxis_name\u001b[49m\u001b[43m)\u001b[49m\n\u001b[32m   2764\u001b[39m     \u001b[38;5;28;01mreturn\u001b[39;00m \u001b[38;5;28mself\u001b[39m[indexer], indexer\n\u001b[32m   2766\u001b[39m \u001b[38;5;28;01mreturn\u001b[39;00m \u001b[38;5;28msuper\u001b[39m()._get_indexer_strict(key, axis_name)\n",
      "\u001b[36mFile \u001b[39m\u001b[32mc:\\Code\\Local Code\\deadlock_match_prediction\\.venv\\Lib\\site-packages\\pandas\\core\\indexes\\multi.py:2781\u001b[39m, in \u001b[36mMultiIndex._raise_if_missing\u001b[39m\u001b[34m(self, key, indexer, axis_name)\u001b[39m\n\u001b[32m   2779\u001b[39m cmask = check == -\u001b[32m1\u001b[39m\n\u001b[32m   2780\u001b[39m \u001b[38;5;28;01mif\u001b[39;00m cmask.any():\n\u001b[32m-> \u001b[39m\u001b[32m2781\u001b[39m     \u001b[38;5;28;01mraise\u001b[39;00m \u001b[38;5;167;01mKeyError\u001b[39;00m(\u001b[33mf\u001b[39m\u001b[33m\"\u001b[39m\u001b[38;5;132;01m{\u001b[39;00mkeyarr[cmask]\u001b[38;5;132;01m}\u001b[39;00m\u001b[33m not in index\u001b[39m\u001b[33m\"\u001b[39m)\n\u001b[32m   2782\u001b[39m \u001b[38;5;66;03m# We get here when levels still contain values which are not\u001b[39;00m\n\u001b[32m   2783\u001b[39m \u001b[38;5;66;03m# actually in Index anymore\u001b[39;00m\n\u001b[32m   2784\u001b[39m \u001b[38;5;28;01mraise\u001b[39;00m \u001b[38;5;167;01mKeyError\u001b[39;00m(\u001b[33mf\u001b[39m\u001b[33m\"\u001b[39m\u001b[38;5;132;01m{\u001b[39;00mkeyarr\u001b[38;5;132;01m}\u001b[39;00m\u001b[33m not in index\u001b[39m\u001b[33m\"\u001b[39m)\n",
      "\u001b[31mKeyError\u001b[39m: '[1.77618000e+05 1.75141272e+09 1.63406100e+06 ... 3.84689363e-05\\n 5.05534564e-01 1.97810411e+00] not in index'"
     ]
    }
   ],
   "source": [
    "nan_indices = all_stats.stack()[all_stats.stack()].index.tolist()\n",
    "nan_indices"
   ]
  },
  {
   "cell_type": "code",
   "execution_count": 18,
   "id": "4990f780",
   "metadata": {},
   "outputs": [],
   "source": [
    "f = r\"v2_data\\training_data\\train_data_2025-07-01_2025-08-01\\training_data_vL1\\all_stats2.csv\""
   ]
  },
  {
   "cell_type": "code",
   "execution_count": 7,
   "id": "fcf112db",
   "metadata": {},
   "outputs": [],
   "source": [
    "all_stats.to_csv(f, index=False)"
   ]
  },
  {
   "cell_type": "code",
   "execution_count": 23,
   "id": "0cf5a1d6",
   "metadata": {},
   "outputs": [],
   "source": [
    "import create_team_stats as cts\n",
    "team_stat_model = 'std'\n",
    "match_players = pd.read_csv(f\"v2_data\\\\training_data\\\\train_data_2025-07-01_2025-08-01\\\\training_data_vL1\\\\match_players.csv\", index_col=False)\n",
    "p_m_stats = cts.merge_match_player_stats(match_players, all_stats)\n",
    "\n",
    "if team_stat_model == 'std':\n",
    "    team_stats = cts.create_std_team_stats(p_m_stats)\n",
    "    training_data = cts.create_training_data(team_stats)\n",
    "elif team_stat_model == 'diff':\n",
    "    team_stats = cts.create_std_team_stats(p_m_stats)\n",
    "    training_data = cts.create_differential_training_data(team_stats)\n",
    "elif team_stat_model == 'basic':\n",
    "    team_stats = cts.create_basic_team_stats(p_m_stats)\n",
    "    training_data = cts.create_training_data(team_stats)\n",
    "\n",
    "\n",
    "team_stats.to_csv(f\"team_stats.csv\", index=False)\n",
    "training_data.to_csv(f\"training_data.csv\", index=False)"
   ]
  }
 ],
 "metadata": {
  "kernelspec": {
   "display_name": ".venv",
   "language": "python",
   "name": "python3"
  },
  "language_info": {
   "codemirror_mode": {
    "name": "ipython",
    "version": 3
   },
   "file_extension": ".py",
   "mimetype": "text/x-python",
   "name": "python",
   "nbconvert_exporter": "python",
   "pygments_lexer": "ipython3",
   "version": "3.12.6"
  }
 },
 "nbformat": 4,
 "nbformat_minor": 5
}
