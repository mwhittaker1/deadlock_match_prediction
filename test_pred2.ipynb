{
 "cells": [
  {
   "cell_type": "code",
   "execution_count": 28,
   "id": "93212d0f",
   "metadata": {},
   "outputs": [],
   "source": [
    "import requests\n",
    "import json\n",
    "import os\n",
    "import sys\n",
    "import pandas as pd\n",
    "import logging\n",
    "from urllib.parse import urlencode\n",
    "import time\n",
    "from datetime import timedelta, datetime, timezone\n",
    "from data.fetch_data import bulk_fetch_matches\n",
    "from typing import Optional, Dict, Any, Iterable, List\n",
    "\n",
    "logging.basicConfig(level=logging.DEBUG)\n",
    "logging = logging.getLogger(__name__)\n",
    "\n"
   ]
  },
  {
   "cell_type": "code",
   "execution_count": 29,
   "id": "6e928d7e",
   "metadata": {},
   "outputs": [],
   "source": [
    "def unix_utc_start(date_str: str) -> int:\n",
    "    # YYYY-MM-DD at 00:00:00 UTC\n",
    "    dt = datetime.strptime(date_str, \"%Y-%m-%d\").replace(tzinfo=timezone.utc)\n",
    "    dt = dt.replace(hour=0, minute=0, second=0)\n",
    "    return int(dt.timestamp())\n",
    "\n",
    "def unix_utc_eod(date_str: str) -> int:\n",
    "    # YYYY-MM-DD at 23:59:59 UTC (inclusive)\n",
    "    dt = datetime.strptime(date_str, \"%Y-%m-%d\").replace(tzinfo=timezone.utc)\n",
    "    dt = dt.replace(hour=23, minute=59, second=59)\n",
    "    return int(dt.timestamp())"
   ]
  },
  {
   "cell_type": "code",
   "execution_count": 30,
   "id": "2f4e21d8",
   "metadata": {},
   "outputs": [],
   "source": [
    "start_date = \"2025-08-19\"\n",
    "end_date = \"2025-08-21\"\n",
    "folder_name = f\"//v2_data//pred_data//test_pred_v2_{start_date}_{end_date}\""
   ]
  },
  {
   "cell_type": "code",
   "execution_count": 31,
   "id": "a5792ac6",
   "metadata": {},
   "outputs": [],
   "source": [
    "def fetch_match_data(\n",
    "    min_average_badge: int = 100,\n",
    "    fetch_till_date: int | None = None,\n",
    "    fetch_from_date: int | None = None,\n",
    "    m_id: str | None = None,\n",
    "    include_player_info: bool = True,\n",
    "    limit: int = 1000\n",
    "    ) -> json:\n",
    "    \"\"\"Fetches match data from the Deadlock API.\n",
    "    \n",
    "    Key Parameters:\n",
    "    - min_average_badge: Minimum average rank to return matches.\n",
    "    - fetch_till_date: Newest time to filter matches. i.e. matches before yesterday\n",
    "    - fetch_from_date: Oldest time to filter matches. i.e. matches 3 months ago -> max time\n",
    "    - m_id: Specific match ID to fetch metadata for.\n",
    "    - include_player_info: Whether to include player information in the response. this is required for match_player data\n",
    "    - limit: Maximum number of matches to return.\n",
    "    Returns:\n",
    "    - JSON response containing match metadata with 12 players per match.\n",
    "    \"\"\"\n",
    "\n",
    "    logging.debug(f\"Fetching match data..\")\n",
    "    base = \"https://api.deadlock-api.com/v1/matches\"\n",
    "\n",
    "    # if a specific match ID is given, check player_data and hit that endpoint\n",
    "    if m_id:\n",
    "        path = f\"{base}/{m_id}/metadata\"\n",
    "        params = {}\n",
    "        if include_player_info:\n",
    "            params[\"include_player_info\"] = \"true\"\n",
    "\n",
    "        query = urlencode(params)\n",
    "        full_url = f\"{path}?{query}\" if query else path\n",
    "        response = requests.get(full_url)\n",
    "        if response.status_code != 200:\n",
    "            print(f\"Error: API request failed with status code {response.status_code}\")\n",
    "            print(f\"URL: {full_url}\")\n",
    "            return {\"error\": f\"API request failed with status code {response.status_code}\"}\n",
    "        return response.json()\n",
    "\n",
    "    # Bulk-metadata endpoint\n",
    "    path = f\"{base}/metadata\"\n",
    "    params: dict[str, str] = {}\n",
    "\n",
    "    if include_player_info:\n",
    "        params[\"include_player_info\"] = \"true\"\n",
    "    \n",
    "    print(f\"Time range: {fetch_from_date} days ago to {fetch_till_date} days ago\")\n",
    "\n",
    "    fetch_from_date = unix_utc_start(fetch_from_date) if fetch_from_date else None\n",
    "    fetch_till_date = unix_utc_eod(fetch_till_date) if fetch_till_date else None\n",
    "\n",
    "    print(f\"Unix timestamps: {fetch_till_date} to {fetch_from_date}. types:\")\n",
    "    print(fetch_from_date, type(fetch_from_date))\n",
    "    print(fetch_till_date, type(fetch_till_date))\n",
    "\n",
    "    if fetch_from_date is not None:\n",
    "        params[\"min_unix_timestamp\"] = str(fetch_from_date)\n",
    "    if fetch_till_date is not None:\n",
    "        params[\"max_unix_timestamp\"] = str(fetch_till_date)\n",
    "    if min_average_badge is not None:\n",
    "        params[\"min_average_badge\"] = str(min_average_badge)\n",
    "    if limit is not None:\n",
    "        params[\"limit\"] = str(limit)\n",
    "\n",
    "    query = urlencode(params)\n",
    "    full_url = f\"{path}?{query}\" if query else path\n",
    "    \n",
    "    print(f\"Making request to: {full_url}\")\n",
    "    response = requests.get(full_url)\n",
    "    if response.status_code != 200:\n",
    "        print(f\"Error: API request failed with status code {response.status_code}\")\n",
    "        print(f\"URL: {full_url}\")\n",
    "        return {\"error\": f\"API request failed with status code {response.status_code}\"}\n",
    "    return response.json()\n",
    "\n",
    "def bulk_fetch_matches(start_date, end_date, limit=1000)->list:\n",
    "    \"\"\"fetches a batch of matches, 1 day per pull, list of jsons, 1 element per batch.\n",
    "\n",
    "    batch return is unnormalized, 'players' contains a df of each matches 'players'\n",
    "    \n",
    "    min_days = Oldest time barrier (more days ago)\n",
    "    max_days = Newest time barrier (fewer days ago)\n",
    "    \n",
    "    \"\"\"\n",
    "\n",
    "    batch_matches = []\n",
    "    \n",
    "    # Calculate the starting day (defaults to today)\n",
    "    current_start = datetime.strptime(start_date, \"%Y-%m-%d\")\n",
    "    current_end = datetime.strptime(end_date, \"%Y-%m-%d\")\n",
    "    \n",
    "    total_batches = (current_end - current_start).days + 1\n",
    "    batch_num = 1\n",
    "\n",
    "    while current_start <= current_end:\n",
    "        fetch_from = current_start.strftime(\"%Y-%m-%d\")\n",
    "        fetch_till = (current_start + timedelta(days=1)).strftime(\"%Y-%m-%d\")\n",
    "\n",
    "        logging.debug(f\"\\nBatch {batch_num} of {total_batches}: fetching day from {fetch_from} to {fetch_till}\")\n",
    "\n",
    "        # Note: API expects min_unix_timestamp to be OLDER than max_unix_timestamp\n",
    "        fetched_matches = fetch_match_data(\n",
    "            fetch_till_date=fetch_from,  # Older timestamp (more days ago)\n",
    "            fetch_from_date=fetch_till,  # Newer timestamp (fewer days ago)\n",
    "            limit=limit\n",
    "        )\n",
    "        \n",
    "        # Check if there was an error in the API response\n",
    "        if \"error\" in fetched_matches:\n",
    "            print(f\"Error encountered during batch {batch_num+1}. Skipping this batch.\")\n",
    "        else:\n",
    "            batch_matches.append(fetched_matches)\n",
    "            \n",
    "        # Move backward in time by one day\n",
    "        current_start += timedelta(days=1)\n",
    "        batch_num += 1\n",
    "\n",
    "    return batch_matches"
   ]
  },
  {
   "cell_type": "code",
   "execution_count": 32,
   "id": "bba035e8",
   "metadata": {},
   "outputs": [
    {
     "name": "stderr",
     "output_type": "stream",
     "text": [
      "DEBUG:__main__:\n",
      "Batch 1 of 3: fetching day from 2025-08-19 to 2025-08-20\n",
      "DEBUG:__main__:Fetching match data..\n",
      "DEBUG:urllib3.connectionpool:Starting new HTTPS connection (1): api.deadlock-api.com:443\n"
     ]
    },
    {
     "name": "stdout",
     "output_type": "stream",
     "text": [
      "Time range: 2025-08-20 days ago to 2025-08-19 days ago\n",
      "Unix timestamps: 1755647999 to 1755648000. types:\n",
      "1755648000 <class 'int'>\n",
      "1755647999 <class 'int'>\n",
      "Making request to: https://api.deadlock-api.com/v1/matches/metadata?include_player_info=true&min_unix_timestamp=1755648000&max_unix_timestamp=1755647999&min_average_badge=100&limit=2000\n"
     ]
    },
    {
     "name": "stderr",
     "output_type": "stream",
     "text": [
      "DEBUG:urllib3.connectionpool:https://api.deadlock-api.com:443 \"GET /v1/matches/metadata?include_player_info=true&min_unix_timestamp=1755648000&max_unix_timestamp=1755647999&min_average_badge=100&limit=2000 HTTP/1.1\" 404 None\n",
      "DEBUG:__main__:\n",
      "Batch 2 of 3: fetching day from 2025-08-20 to 2025-08-21\n",
      "DEBUG:__main__:Fetching match data..\n",
      "DEBUG:urllib3.connectionpool:Starting new HTTPS connection (1): api.deadlock-api.com:443\n"
     ]
    },
    {
     "name": "stdout",
     "output_type": "stream",
     "text": [
      "Error: API request failed with status code 404\n",
      "URL: https://api.deadlock-api.com/v1/matches/metadata?include_player_info=true&min_unix_timestamp=1755648000&max_unix_timestamp=1755647999&min_average_badge=100&limit=2000\n",
      "Error encountered during batch 2. Skipping this batch.\n",
      "Time range: 2025-08-21 days ago to 2025-08-20 days ago\n",
      "Unix timestamps: 1755734399 to 1755734400. types:\n",
      "1755734400 <class 'int'>\n",
      "1755734399 <class 'int'>\n",
      "Making request to: https://api.deadlock-api.com/v1/matches/metadata?include_player_info=true&min_unix_timestamp=1755734400&max_unix_timestamp=1755734399&min_average_badge=100&limit=2000\n"
     ]
    },
    {
     "name": "stderr",
     "output_type": "stream",
     "text": [
      "DEBUG:urllib3.connectionpool:https://api.deadlock-api.com:443 \"GET /v1/matches/metadata?include_player_info=true&min_unix_timestamp=1755734400&max_unix_timestamp=1755734399&min_average_badge=100&limit=2000 HTTP/1.1\" 404 None\n",
      "DEBUG:__main__:\n",
      "Batch 3 of 3: fetching day from 2025-08-21 to 2025-08-22\n",
      "DEBUG:__main__:Fetching match data..\n",
      "DEBUG:urllib3.connectionpool:Starting new HTTPS connection (1): api.deadlock-api.com:443\n"
     ]
    },
    {
     "name": "stdout",
     "output_type": "stream",
     "text": [
      "Error: API request failed with status code 404\n",
      "URL: https://api.deadlock-api.com/v1/matches/metadata?include_player_info=true&min_unix_timestamp=1755734400&max_unix_timestamp=1755734399&min_average_badge=100&limit=2000\n",
      "Error encountered during batch 3. Skipping this batch.\n",
      "Time range: 2025-08-22 days ago to 2025-08-21 days ago\n",
      "Unix timestamps: 1755820799 to 1755820800. types:\n",
      "1755820800 <class 'int'>\n",
      "1755820799 <class 'int'>\n",
      "Making request to: https://api.deadlock-api.com/v1/matches/metadata?include_player_info=true&min_unix_timestamp=1755820800&max_unix_timestamp=1755820799&min_average_badge=100&limit=2000\n"
     ]
    },
    {
     "name": "stderr",
     "output_type": "stream",
     "text": [
      "DEBUG:urllib3.connectionpool:https://api.deadlock-api.com:443 \"GET /v1/matches/metadata?include_player_info=true&min_unix_timestamp=1755820800&max_unix_timestamp=1755820799&min_average_badge=100&limit=2000 HTTP/1.1\" 404 None\n"
     ]
    },
    {
     "name": "stdout",
     "output_type": "stream",
     "text": [
      "Error: API request failed with status code 404\n",
      "URL: https://api.deadlock-api.com/v1/matches/metadata?include_player_info=true&min_unix_timestamp=1755820800&max_unix_timestamp=1755820799&min_average_badge=100&limit=2000\n",
      "Error encountered during batch 4. Skipping this batch.\n"
     ]
    }
   ],
   "source": [
    "# Fetch batch matches\n",
    "batch_matches = bulk_fetch_matches(\n",
    "    start_date=start_date,\n",
    "    end_date=end_date, \n",
    "    limit=2000\n",
    ")"
   ]
  },
  {
   "cell_type": "code",
   "execution_count": null,
   "id": "afac595b",
   "metadata": {},
   "outputs": [],
   "source": []
  }
 ],
 "metadata": {
  "kernelspec": {
   "display_name": ".venv",
   "language": "python",
   "name": "python3"
  },
  "language_info": {
   "codemirror_mode": {
    "name": "ipython",
    "version": 3
   },
   "file_extension": ".py",
   "mimetype": "text/x-python",
   "name": "python",
   "nbconvert_exporter": "python",
   "pygments_lexer": "ipython3",
   "version": "3.12.6"
  }
 },
 "nbformat": 4,
 "nbformat_minor": 5
}
